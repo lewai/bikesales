{
  "nbformat": 4,
  "nbformat_minor": 0,
  "metadata": {
    "kernelspec": {
      "display_name": "Python 3",
      "language": "python",
      "name": "python3"
    },
    "language_info": {
      "codemirror_mode": {
        "name": "ipython",
        "version": 3
      },
      "file_extension": ".py",
      "mimetype": "text/x-python",
      "name": "python",
      "nbconvert_exporter": "python",
      "pygments_lexer": "ipython3",
      "version": "3.7.0"
    },
    "colab": {
      "name": "nirvana02-bike-sales.ipynb",
      "provenance": [],
      "collapsed_sections": []
    }
  },
  "cells": [
    {
      "cell_type": "code",
      "metadata": {
        "id": "ibBy7OA3MLEG",
        "colab_type": "code",
        "colab": {}
      },
      "source": [
        "import numpy as np\n",
        "import pandas as pd\n",
        "import matplotlib.pyplot as plt\n",
        "import seaborn as sns\n",
        "from sklearn.model_selection import train_test_split \n",
        "from sklearn.linear_model import LogisticRegression\n",
        "from sklearn import metrics\n",
        "%matplotlib inline\n",
        "import warnings\n",
        "warnings.filterwarnings('ignore')\n",
        "from sklearn.metrics import accuracy_score\n",
        "from sklearn.tree import DecisionTreeClassifier\n",
        "from sklearn.decomposition import PCA"
      ],
      "execution_count": 0,
      "outputs": []
    },
    {
      "cell_type": "code",
      "metadata": {
        "id": "uIC5NHrPMLEO",
        "colab_type": "code",
        "colab": {},
        "outputId": "e5b8ae66-faed-4ff5-e6f9-968dc3d25a20"
      },
      "source": [
        "FILENAME = \"bike_prediction_customer_data_processed.csv\"\n",
        "\n",
        "df = pd.read_csv(FILENAME)\n",
        "df.head()"
      ],
      "execution_count": 0,
      "outputs": [
        {
          "output_type": "execute_result",
          "data": {
            "text/html": [
              "<div>\n",
              "<style scoped>\n",
              "    .dataframe tbody tr th:only-of-type {\n",
              "        vertical-align: middle;\n",
              "    }\n",
              "\n",
              "    .dataframe tbody tr th {\n",
              "        vertical-align: top;\n",
              "    }\n",
              "\n",
              "    .dataframe thead th {\n",
              "        text-align: right;\n",
              "    }\n",
              "</style>\n",
              "<table border=\"1\" class=\"dataframe\">\n",
              "  <thead>\n",
              "    <tr style=\"text-align: right;\">\n",
              "      <th></th>\n",
              "      <th>ID</th>\n",
              "      <th>Age</th>\n",
              "      <th>Gender</th>\n",
              "      <th>Occupation</th>\n",
              "      <th>Phone Type</th>\n",
              "      <th>Current Bike</th>\n",
              "      <th>Relationship</th>\n",
              "      <th>Response</th>\n",
              "    </tr>\n",
              "  </thead>\n",
              "  <tbody>\n",
              "    <tr>\n",
              "      <th>0</th>\n",
              "      <td>1</td>\n",
              "      <td>53</td>\n",
              "      <td>1</td>\n",
              "      <td>3</td>\n",
              "      <td>2</td>\n",
              "      <td>4</td>\n",
              "      <td>3</td>\n",
              "      <td>0</td>\n",
              "    </tr>\n",
              "    <tr>\n",
              "      <th>1</th>\n",
              "      <td>2</td>\n",
              "      <td>27</td>\n",
              "      <td>0</td>\n",
              "      <td>4</td>\n",
              "      <td>1</td>\n",
              "      <td>1</td>\n",
              "      <td>1</td>\n",
              "      <td>1</td>\n",
              "    </tr>\n",
              "    <tr>\n",
              "      <th>2</th>\n",
              "      <td>3</td>\n",
              "      <td>39</td>\n",
              "      <td>0</td>\n",
              "      <td>2</td>\n",
              "      <td>2</td>\n",
              "      <td>4</td>\n",
              "      <td>4</td>\n",
              "      <td>0</td>\n",
              "    </tr>\n",
              "    <tr>\n",
              "      <th>3</th>\n",
              "      <td>4</td>\n",
              "      <td>20</td>\n",
              "      <td>0</td>\n",
              "      <td>2</td>\n",
              "      <td>3</td>\n",
              "      <td>1</td>\n",
              "      <td>4</td>\n",
              "      <td>0</td>\n",
              "    </tr>\n",
              "    <tr>\n",
              "      <th>4</th>\n",
              "      <td>5</td>\n",
              "      <td>29</td>\n",
              "      <td>1</td>\n",
              "      <td>1</td>\n",
              "      <td>2</td>\n",
              "      <td>4</td>\n",
              "      <td>3</td>\n",
              "      <td>1</td>\n",
              "    </tr>\n",
              "  </tbody>\n",
              "</table>\n",
              "</div>"
            ],
            "text/plain": [
              "   ID  Age  Gender  Occupation  Phone Type  Current Bike  Relationship  \\\n",
              "0   1   53       1           3           2             4             3   \n",
              "1   2   27       0           4           1             1             1   \n",
              "2   3   39       0           2           2             4             4   \n",
              "3   4   20       0           2           3             1             4   \n",
              "4   5   29       1           1           2             4             3   \n",
              "\n",
              "   Response  \n",
              "0         0  \n",
              "1         1  \n",
              "2         0  \n",
              "3         0  \n",
              "4         1  "
            ]
          },
          "metadata": {
            "tags": []
          },
          "execution_count": 2
        }
      ]
    },
    {
      "cell_type": "code",
      "metadata": {
        "id": "pB6HNwraMLET",
        "colab_type": "code",
        "colab": {},
        "outputId": "1efc820d-c99a-4323-cc3d-66f83e8026bb"
      },
      "source": [
        "df.rename(columns = {\"ID\":\"id\",\"Age\": \"age\", \"Gender\":\"sex\",\"Occupation\":\"occupation\", \"Phone Type\": \"phone\", \"Current Bike\":\"bike\", \"Relationship\":'relationship',\"Response\":\"buy\"}, inplace=True)\n",
        "df.head()"
      ],
      "execution_count": 0,
      "outputs": [
        {
          "output_type": "execute_result",
          "data": {
            "text/html": [
              "<div>\n",
              "<style scoped>\n",
              "    .dataframe tbody tr th:only-of-type {\n",
              "        vertical-align: middle;\n",
              "    }\n",
              "\n",
              "    .dataframe tbody tr th {\n",
              "        vertical-align: top;\n",
              "    }\n",
              "\n",
              "    .dataframe thead th {\n",
              "        text-align: right;\n",
              "    }\n",
              "</style>\n",
              "<table border=\"1\" class=\"dataframe\">\n",
              "  <thead>\n",
              "    <tr style=\"text-align: right;\">\n",
              "      <th></th>\n",
              "      <th>id</th>\n",
              "      <th>age</th>\n",
              "      <th>sex</th>\n",
              "      <th>occupation</th>\n",
              "      <th>phone</th>\n",
              "      <th>bike</th>\n",
              "      <th>relationship</th>\n",
              "      <th>buy</th>\n",
              "    </tr>\n",
              "  </thead>\n",
              "  <tbody>\n",
              "    <tr>\n",
              "      <th>0</th>\n",
              "      <td>1</td>\n",
              "      <td>53</td>\n",
              "      <td>1</td>\n",
              "      <td>3</td>\n",
              "      <td>2</td>\n",
              "      <td>4</td>\n",
              "      <td>3</td>\n",
              "      <td>0</td>\n",
              "    </tr>\n",
              "    <tr>\n",
              "      <th>1</th>\n",
              "      <td>2</td>\n",
              "      <td>27</td>\n",
              "      <td>0</td>\n",
              "      <td>4</td>\n",
              "      <td>1</td>\n",
              "      <td>1</td>\n",
              "      <td>1</td>\n",
              "      <td>1</td>\n",
              "    </tr>\n",
              "    <tr>\n",
              "      <th>2</th>\n",
              "      <td>3</td>\n",
              "      <td>39</td>\n",
              "      <td>0</td>\n",
              "      <td>2</td>\n",
              "      <td>2</td>\n",
              "      <td>4</td>\n",
              "      <td>4</td>\n",
              "      <td>0</td>\n",
              "    </tr>\n",
              "    <tr>\n",
              "      <th>3</th>\n",
              "      <td>4</td>\n",
              "      <td>20</td>\n",
              "      <td>0</td>\n",
              "      <td>2</td>\n",
              "      <td>3</td>\n",
              "      <td>1</td>\n",
              "      <td>4</td>\n",
              "      <td>0</td>\n",
              "    </tr>\n",
              "    <tr>\n",
              "      <th>4</th>\n",
              "      <td>5</td>\n",
              "      <td>29</td>\n",
              "      <td>1</td>\n",
              "      <td>1</td>\n",
              "      <td>2</td>\n",
              "      <td>4</td>\n",
              "      <td>3</td>\n",
              "      <td>1</td>\n",
              "    </tr>\n",
              "  </tbody>\n",
              "</table>\n",
              "</div>"
            ],
            "text/plain": [
              "   id  age  sex  occupation  phone  bike  relationship  buy\n",
              "0   1   53    1           3      2     4             3    0\n",
              "1   2   27    0           4      1     1             1    1\n",
              "2   3   39    0           2      2     4             4    0\n",
              "3   4   20    0           2      3     1             4    0\n",
              "4   5   29    1           1      2     4             3    1"
            ]
          },
          "metadata": {
            "tags": []
          },
          "execution_count": 3
        }
      ]
    },
    {
      "cell_type": "code",
      "metadata": {
        "id": "2I4QnCSCMLEY",
        "colab_type": "code",
        "colab": {},
        "outputId": "eb4f87df-15cf-4cbf-b726-09fb9cc8a291"
      },
      "source": [
        "df.describe()"
      ],
      "execution_count": 0,
      "outputs": [
        {
          "output_type": "execute_result",
          "data": {
            "text/html": [
              "<div>\n",
              "<style scoped>\n",
              "    .dataframe tbody tr th:only-of-type {\n",
              "        vertical-align: middle;\n",
              "    }\n",
              "\n",
              "    .dataframe tbody tr th {\n",
              "        vertical-align: top;\n",
              "    }\n",
              "\n",
              "    .dataframe thead th {\n",
              "        text-align: right;\n",
              "    }\n",
              "</style>\n",
              "<table border=\"1\" class=\"dataframe\">\n",
              "  <thead>\n",
              "    <tr style=\"text-align: right;\">\n",
              "      <th></th>\n",
              "      <th>id</th>\n",
              "      <th>age</th>\n",
              "      <th>sex</th>\n",
              "      <th>occupation</th>\n",
              "      <th>phone</th>\n",
              "      <th>bike</th>\n",
              "      <th>relationship</th>\n",
              "      <th>buy</th>\n",
              "    </tr>\n",
              "  </thead>\n",
              "  <tbody>\n",
              "    <tr>\n",
              "      <th>count</th>\n",
              "      <td>1518.000000</td>\n",
              "      <td>1518.000000</td>\n",
              "      <td>1518.000000</td>\n",
              "      <td>1518.000000</td>\n",
              "      <td>1518.000000</td>\n",
              "      <td>1518.000000</td>\n",
              "      <td>1518.000000</td>\n",
              "      <td>1518.000000</td>\n",
              "    </tr>\n",
              "    <tr>\n",
              "      <th>mean</th>\n",
              "      <td>759.500000</td>\n",
              "      <td>32.731225</td>\n",
              "      <td>0.462451</td>\n",
              "      <td>2.110013</td>\n",
              "      <td>2.324769</td>\n",
              "      <td>3.022398</td>\n",
              "      <td>2.342556</td>\n",
              "      <td>0.574440</td>\n",
              "    </tr>\n",
              "    <tr>\n",
              "      <th>std</th>\n",
              "      <td>438.353168</td>\n",
              "      <td>13.258555</td>\n",
              "      <td>0.498752</td>\n",
              "      <td>1.179541</td>\n",
              "      <td>0.819541</td>\n",
              "      <td>1.303926</td>\n",
              "      <td>1.133150</td>\n",
              "      <td>0.494591</td>\n",
              "    </tr>\n",
              "    <tr>\n",
              "      <th>min</th>\n",
              "      <td>1.000000</td>\n",
              "      <td>18.000000</td>\n",
              "      <td>0.000000</td>\n",
              "      <td>1.000000</td>\n",
              "      <td>1.000000</td>\n",
              "      <td>1.000000</td>\n",
              "      <td>1.000000</td>\n",
              "      <td>0.000000</td>\n",
              "    </tr>\n",
              "    <tr>\n",
              "      <th>25%</th>\n",
              "      <td>380.250000</td>\n",
              "      <td>22.000000</td>\n",
              "      <td>0.000000</td>\n",
              "      <td>1.000000</td>\n",
              "      <td>2.000000</td>\n",
              "      <td>2.000000</td>\n",
              "      <td>1.000000</td>\n",
              "      <td>0.000000</td>\n",
              "    </tr>\n",
              "    <tr>\n",
              "      <th>50%</th>\n",
              "      <td>759.500000</td>\n",
              "      <td>28.000000</td>\n",
              "      <td>0.000000</td>\n",
              "      <td>2.000000</td>\n",
              "      <td>3.000000</td>\n",
              "      <td>3.000000</td>\n",
              "      <td>2.000000</td>\n",
              "      <td>1.000000</td>\n",
              "    </tr>\n",
              "    <tr>\n",
              "      <th>75%</th>\n",
              "      <td>1138.750000</td>\n",
              "      <td>44.000000</td>\n",
              "      <td>1.000000</td>\n",
              "      <td>3.000000</td>\n",
              "      <td>3.000000</td>\n",
              "      <td>4.000000</td>\n",
              "      <td>3.000000</td>\n",
              "      <td>1.000000</td>\n",
              "    </tr>\n",
              "    <tr>\n",
              "      <th>max</th>\n",
              "      <td>1518.000000</td>\n",
              "      <td>60.000000</td>\n",
              "      <td>1.000000</td>\n",
              "      <td>4.000000</td>\n",
              "      <td>3.000000</td>\n",
              "      <td>5.000000</td>\n",
              "      <td>4.000000</td>\n",
              "      <td>1.000000</td>\n",
              "    </tr>\n",
              "  </tbody>\n",
              "</table>\n",
              "</div>"
            ],
            "text/plain": [
              "                id          age          sex   occupation        phone  \\\n",
              "count  1518.000000  1518.000000  1518.000000  1518.000000  1518.000000   \n",
              "mean    759.500000    32.731225     0.462451     2.110013     2.324769   \n",
              "std     438.353168    13.258555     0.498752     1.179541     0.819541   \n",
              "min       1.000000    18.000000     0.000000     1.000000     1.000000   \n",
              "25%     380.250000    22.000000     0.000000     1.000000     2.000000   \n",
              "50%     759.500000    28.000000     0.000000     2.000000     3.000000   \n",
              "75%    1138.750000    44.000000     1.000000     3.000000     3.000000   \n",
              "max    1518.000000    60.000000     1.000000     4.000000     3.000000   \n",
              "\n",
              "              bike  relationship          buy  \n",
              "count  1518.000000   1518.000000  1518.000000  \n",
              "mean      3.022398      2.342556     0.574440  \n",
              "std       1.303926      1.133150     0.494591  \n",
              "min       1.000000      1.000000     0.000000  \n",
              "25%       2.000000      1.000000     0.000000  \n",
              "50%       3.000000      2.000000     1.000000  \n",
              "75%       4.000000      3.000000     1.000000  \n",
              "max       5.000000      4.000000     1.000000  "
            ]
          },
          "metadata": {
            "tags": []
          },
          "execution_count": 4
        }
      ]
    },
    {
      "cell_type": "code",
      "metadata": {
        "scrolled": true,
        "id": "9Juzaf5oMLEc",
        "colab_type": "code",
        "colab": {},
        "outputId": "1dcfda6e-e0a5-4bd0-edbb-6b887d5528e8"
      },
      "source": [
        "df.info()"
      ],
      "execution_count": 0,
      "outputs": [
        {
          "output_type": "stream",
          "text": [
            "<class 'pandas.core.frame.DataFrame'>\n",
            "RangeIndex: 1518 entries, 0 to 1517\n",
            "Data columns (total 8 columns):\n",
            "id              1518 non-null int64\n",
            "age             1518 non-null int64\n",
            "sex             1518 non-null int64\n",
            "occupation      1518 non-null int64\n",
            "phone           1518 non-null int64\n",
            "bike            1518 non-null int64\n",
            "relationship    1518 non-null int64\n",
            "buy             1518 non-null int64\n",
            "dtypes: int64(8)\n",
            "memory usage: 95.0 KB\n"
          ],
          "name": "stdout"
        }
      ]
    },
    {
      "cell_type": "code",
      "metadata": {
        "scrolled": false,
        "id": "4IjPEqQsMLEf",
        "colab_type": "code",
        "colab": {},
        "outputId": "d3b65781-c14b-436e-eff9-553ae46a564a"
      },
      "source": [
        "df_onehot = pd.get_dummies(data=df, columns=['phone','sex','occupation','bike','relationship'])\n",
        "df_onehot.head()"
      ],
      "execution_count": 0,
      "outputs": [
        {
          "output_type": "execute_result",
          "data": {
            "text/html": [
              "<div>\n",
              "<style scoped>\n",
              "    .dataframe tbody tr th:only-of-type {\n",
              "        vertical-align: middle;\n",
              "    }\n",
              "\n",
              "    .dataframe tbody tr th {\n",
              "        vertical-align: top;\n",
              "    }\n",
              "\n",
              "    .dataframe thead th {\n",
              "        text-align: right;\n",
              "    }\n",
              "</style>\n",
              "<table border=\"1\" class=\"dataframe\">\n",
              "  <thead>\n",
              "    <tr style=\"text-align: right;\">\n",
              "      <th></th>\n",
              "      <th>id</th>\n",
              "      <th>age</th>\n",
              "      <th>buy</th>\n",
              "      <th>phone_1</th>\n",
              "      <th>phone_2</th>\n",
              "      <th>phone_3</th>\n",
              "      <th>sex_0</th>\n",
              "      <th>sex_1</th>\n",
              "      <th>occupation_1</th>\n",
              "      <th>occupation_2</th>\n",
              "      <th>...</th>\n",
              "      <th>occupation_4</th>\n",
              "      <th>bike_1</th>\n",
              "      <th>bike_2</th>\n",
              "      <th>bike_3</th>\n",
              "      <th>bike_4</th>\n",
              "      <th>bike_5</th>\n",
              "      <th>relationship_1</th>\n",
              "      <th>relationship_2</th>\n",
              "      <th>relationship_3</th>\n",
              "      <th>relationship_4</th>\n",
              "    </tr>\n",
              "  </thead>\n",
              "  <tbody>\n",
              "    <tr>\n",
              "      <th>0</th>\n",
              "      <td>1</td>\n",
              "      <td>53</td>\n",
              "      <td>0</td>\n",
              "      <td>0</td>\n",
              "      <td>1</td>\n",
              "      <td>0</td>\n",
              "      <td>0</td>\n",
              "      <td>1</td>\n",
              "      <td>0</td>\n",
              "      <td>0</td>\n",
              "      <td>...</td>\n",
              "      <td>0</td>\n",
              "      <td>0</td>\n",
              "      <td>0</td>\n",
              "      <td>0</td>\n",
              "      <td>1</td>\n",
              "      <td>0</td>\n",
              "      <td>0</td>\n",
              "      <td>0</td>\n",
              "      <td>1</td>\n",
              "      <td>0</td>\n",
              "    </tr>\n",
              "    <tr>\n",
              "      <th>1</th>\n",
              "      <td>2</td>\n",
              "      <td>27</td>\n",
              "      <td>1</td>\n",
              "      <td>1</td>\n",
              "      <td>0</td>\n",
              "      <td>0</td>\n",
              "      <td>1</td>\n",
              "      <td>0</td>\n",
              "      <td>0</td>\n",
              "      <td>0</td>\n",
              "      <td>...</td>\n",
              "      <td>1</td>\n",
              "      <td>1</td>\n",
              "      <td>0</td>\n",
              "      <td>0</td>\n",
              "      <td>0</td>\n",
              "      <td>0</td>\n",
              "      <td>1</td>\n",
              "      <td>0</td>\n",
              "      <td>0</td>\n",
              "      <td>0</td>\n",
              "    </tr>\n",
              "    <tr>\n",
              "      <th>2</th>\n",
              "      <td>3</td>\n",
              "      <td>39</td>\n",
              "      <td>0</td>\n",
              "      <td>0</td>\n",
              "      <td>1</td>\n",
              "      <td>0</td>\n",
              "      <td>1</td>\n",
              "      <td>0</td>\n",
              "      <td>0</td>\n",
              "      <td>1</td>\n",
              "      <td>...</td>\n",
              "      <td>0</td>\n",
              "      <td>0</td>\n",
              "      <td>0</td>\n",
              "      <td>0</td>\n",
              "      <td>1</td>\n",
              "      <td>0</td>\n",
              "      <td>0</td>\n",
              "      <td>0</td>\n",
              "      <td>0</td>\n",
              "      <td>1</td>\n",
              "    </tr>\n",
              "    <tr>\n",
              "      <th>3</th>\n",
              "      <td>4</td>\n",
              "      <td>20</td>\n",
              "      <td>0</td>\n",
              "      <td>0</td>\n",
              "      <td>0</td>\n",
              "      <td>1</td>\n",
              "      <td>1</td>\n",
              "      <td>0</td>\n",
              "      <td>0</td>\n",
              "      <td>1</td>\n",
              "      <td>...</td>\n",
              "      <td>0</td>\n",
              "      <td>1</td>\n",
              "      <td>0</td>\n",
              "      <td>0</td>\n",
              "      <td>0</td>\n",
              "      <td>0</td>\n",
              "      <td>0</td>\n",
              "      <td>0</td>\n",
              "      <td>0</td>\n",
              "      <td>1</td>\n",
              "    </tr>\n",
              "    <tr>\n",
              "      <th>4</th>\n",
              "      <td>5</td>\n",
              "      <td>29</td>\n",
              "      <td>1</td>\n",
              "      <td>0</td>\n",
              "      <td>1</td>\n",
              "      <td>0</td>\n",
              "      <td>0</td>\n",
              "      <td>1</td>\n",
              "      <td>1</td>\n",
              "      <td>0</td>\n",
              "      <td>...</td>\n",
              "      <td>0</td>\n",
              "      <td>0</td>\n",
              "      <td>0</td>\n",
              "      <td>0</td>\n",
              "      <td>1</td>\n",
              "      <td>0</td>\n",
              "      <td>0</td>\n",
              "      <td>0</td>\n",
              "      <td>1</td>\n",
              "      <td>0</td>\n",
              "    </tr>\n",
              "  </tbody>\n",
              "</table>\n",
              "<p>5 rows × 21 columns</p>\n",
              "</div>"
            ],
            "text/plain": [
              "   id  age  buy  phone_1  phone_2  phone_3  sex_0  sex_1  occupation_1  \\\n",
              "0   1   53    0        0        1        0      0      1             0   \n",
              "1   2   27    1        1        0        0      1      0             0   \n",
              "2   3   39    0        0        1        0      1      0             0   \n",
              "3   4   20    0        0        0        1      1      0             0   \n",
              "4   5   29    1        0        1        0      0      1             1   \n",
              "\n",
              "   occupation_2       ...        occupation_4  bike_1  bike_2  bike_3  bike_4  \\\n",
              "0             0       ...                   0       0       0       0       1   \n",
              "1             0       ...                   1       1       0       0       0   \n",
              "2             1       ...                   0       0       0       0       1   \n",
              "3             1       ...                   0       1       0       0       0   \n",
              "4             0       ...                   0       0       0       0       1   \n",
              "\n",
              "   bike_5  relationship_1  relationship_2  relationship_3  relationship_4  \n",
              "0       0               0               0               1               0  \n",
              "1       0               1               0               0               0  \n",
              "2       0               0               0               0               1  \n",
              "3       0               0               0               0               1  \n",
              "4       0               0               0               1               0  \n",
              "\n",
              "[5 rows x 21 columns]"
            ]
          },
          "metadata": {
            "tags": []
          },
          "execution_count": 6
        }
      ]
    },
    {
      "cell_type": "markdown",
      "metadata": {
        "id": "hm2yAGwKMLEj",
        "colab_type": "text"
      },
      "source": [
        "        Student\t1\t\tLow End\t1\t\tNo Bike\t1\t\t    Single\t1\t\t    Male\t1\n",
        "    Unemployed\t2\t\tAverage\t2\t\tBelow 125\t2\t\tCommitted\t2\t\tFemale\t0\n",
        "Professional\t3\t\tHigh End 3\t\t125 to 180\t3\t\tComplicated\t3\t\t\t\n",
        "Self Employed\t4\t\t\t\t\t    180 to 220\t4\t\tMarried\t4\t\t\t\n",
        "\t\t\t\t\t\t                220 and Above\t5\t\t\t\t\t\t\n",
        "![image.png](attachment:image.png)"
      ]
    },
    {
      "cell_type": "markdown",
      "metadata": {
        "id": "ZJJqjU9yMLEk",
        "colab_type": "text"
      },
      "source": [
        "We have data regarding the demographics of purchasers of bikes. The data we have is:\n",
        "•\tAge: 18-60, with an average of 32… There is a large proportion of population in the lower age brackets\n",
        "•\tGender: 816 female, 702 male\n",
        "•\tOccupation: Students, Professional, Self-employed, and unemployed. There is a large proportion of students\n",
        "•\tBike currently owned: a range from no-bike to a large bike\n",
        "•\tPhone-type: low-end, average-phone, high-end-phone\n",
        "•\tRelationship: married, single, committed, complicated\n"
      ]
    },
    {
      "cell_type": "markdown",
      "metadata": {
        "id": "xZTfukuuMLEl",
        "colab_type": "text"
      },
      "source": [
        "Categorical data is one-hot encoded so that it can be compared"
      ]
    },
    {
      "cell_type": "code",
      "metadata": {
        "id": "w-Yd-8YwMLEm",
        "colab_type": "code",
        "colab": {},
        "outputId": "61dba78b-d2c2-4444-a4db-7203fa7d2b34"
      },
      "source": [
        "df_onehot.rename(columns = {\"sex_0\":\"female\",\"sex_1\": \"male\", \"occupation_1\":\"student\",\"occupation_2\":\"unemployed\", \"occupation_3\": \"professional\", \"occupation_4\":\"self_employed\", \"relationship_1\":'single',\"relationship_2\":\"committed\",\"relationship_3\":\"complicated\",\"relationship_4\":\"married\",\"phone_1\":\"low-end-phone\", \"phone_2\":\"average-phone\",\"phone_3\":\"high-end-phone\", \"bike_1\":\"no_bike\",\"bike_2\":\"bike-below125\",\"bike_3\":\"bike-125-180\", \"bike_4\":\"bike-10-220\",\"bike_5\":\"bike220plus\"}, inplace=True)\n",
        "df_onehot.head()\n"
      ],
      "execution_count": 0,
      "outputs": [
        {
          "output_type": "execute_result",
          "data": {
            "text/html": [
              "<div>\n",
              "<style scoped>\n",
              "    .dataframe tbody tr th:only-of-type {\n",
              "        vertical-align: middle;\n",
              "    }\n",
              "\n",
              "    .dataframe tbody tr th {\n",
              "        vertical-align: top;\n",
              "    }\n",
              "\n",
              "    .dataframe thead th {\n",
              "        text-align: right;\n",
              "    }\n",
              "</style>\n",
              "<table border=\"1\" class=\"dataframe\">\n",
              "  <thead>\n",
              "    <tr style=\"text-align: right;\">\n",
              "      <th></th>\n",
              "      <th>id</th>\n",
              "      <th>age</th>\n",
              "      <th>buy</th>\n",
              "      <th>low-end-phone</th>\n",
              "      <th>average-phone</th>\n",
              "      <th>high-end-phone</th>\n",
              "      <th>female</th>\n",
              "      <th>male</th>\n",
              "      <th>student</th>\n",
              "      <th>unemployed</th>\n",
              "      <th>...</th>\n",
              "      <th>self_employed</th>\n",
              "      <th>no_bike</th>\n",
              "      <th>bike-below125</th>\n",
              "      <th>bike-125-180</th>\n",
              "      <th>bike-10-220</th>\n",
              "      <th>bike220plus</th>\n",
              "      <th>single</th>\n",
              "      <th>committed</th>\n",
              "      <th>complicated</th>\n",
              "      <th>married</th>\n",
              "    </tr>\n",
              "  </thead>\n",
              "  <tbody>\n",
              "    <tr>\n",
              "      <th>0</th>\n",
              "      <td>1</td>\n",
              "      <td>53</td>\n",
              "      <td>0</td>\n",
              "      <td>0</td>\n",
              "      <td>1</td>\n",
              "      <td>0</td>\n",
              "      <td>0</td>\n",
              "      <td>1</td>\n",
              "      <td>0</td>\n",
              "      <td>0</td>\n",
              "      <td>...</td>\n",
              "      <td>0</td>\n",
              "      <td>0</td>\n",
              "      <td>0</td>\n",
              "      <td>0</td>\n",
              "      <td>1</td>\n",
              "      <td>0</td>\n",
              "      <td>0</td>\n",
              "      <td>0</td>\n",
              "      <td>1</td>\n",
              "      <td>0</td>\n",
              "    </tr>\n",
              "    <tr>\n",
              "      <th>1</th>\n",
              "      <td>2</td>\n",
              "      <td>27</td>\n",
              "      <td>1</td>\n",
              "      <td>1</td>\n",
              "      <td>0</td>\n",
              "      <td>0</td>\n",
              "      <td>1</td>\n",
              "      <td>0</td>\n",
              "      <td>0</td>\n",
              "      <td>0</td>\n",
              "      <td>...</td>\n",
              "      <td>1</td>\n",
              "      <td>1</td>\n",
              "      <td>0</td>\n",
              "      <td>0</td>\n",
              "      <td>0</td>\n",
              "      <td>0</td>\n",
              "      <td>1</td>\n",
              "      <td>0</td>\n",
              "      <td>0</td>\n",
              "      <td>0</td>\n",
              "    </tr>\n",
              "    <tr>\n",
              "      <th>2</th>\n",
              "      <td>3</td>\n",
              "      <td>39</td>\n",
              "      <td>0</td>\n",
              "      <td>0</td>\n",
              "      <td>1</td>\n",
              "      <td>0</td>\n",
              "      <td>1</td>\n",
              "      <td>0</td>\n",
              "      <td>0</td>\n",
              "      <td>1</td>\n",
              "      <td>...</td>\n",
              "      <td>0</td>\n",
              "      <td>0</td>\n",
              "      <td>0</td>\n",
              "      <td>0</td>\n",
              "      <td>1</td>\n",
              "      <td>0</td>\n",
              "      <td>0</td>\n",
              "      <td>0</td>\n",
              "      <td>0</td>\n",
              "      <td>1</td>\n",
              "    </tr>\n",
              "    <tr>\n",
              "      <th>3</th>\n",
              "      <td>4</td>\n",
              "      <td>20</td>\n",
              "      <td>0</td>\n",
              "      <td>0</td>\n",
              "      <td>0</td>\n",
              "      <td>1</td>\n",
              "      <td>1</td>\n",
              "      <td>0</td>\n",
              "      <td>0</td>\n",
              "      <td>1</td>\n",
              "      <td>...</td>\n",
              "      <td>0</td>\n",
              "      <td>1</td>\n",
              "      <td>0</td>\n",
              "      <td>0</td>\n",
              "      <td>0</td>\n",
              "      <td>0</td>\n",
              "      <td>0</td>\n",
              "      <td>0</td>\n",
              "      <td>0</td>\n",
              "      <td>1</td>\n",
              "    </tr>\n",
              "    <tr>\n",
              "      <th>4</th>\n",
              "      <td>5</td>\n",
              "      <td>29</td>\n",
              "      <td>1</td>\n",
              "      <td>0</td>\n",
              "      <td>1</td>\n",
              "      <td>0</td>\n",
              "      <td>0</td>\n",
              "      <td>1</td>\n",
              "      <td>1</td>\n",
              "      <td>0</td>\n",
              "      <td>...</td>\n",
              "      <td>0</td>\n",
              "      <td>0</td>\n",
              "      <td>0</td>\n",
              "      <td>0</td>\n",
              "      <td>1</td>\n",
              "      <td>0</td>\n",
              "      <td>0</td>\n",
              "      <td>0</td>\n",
              "      <td>1</td>\n",
              "      <td>0</td>\n",
              "    </tr>\n",
              "  </tbody>\n",
              "</table>\n",
              "<p>5 rows × 21 columns</p>\n",
              "</div>"
            ],
            "text/plain": [
              "   id  age  buy  low-end-phone  average-phone  high-end-phone  female  male  \\\n",
              "0   1   53    0              0              1               0       0     1   \n",
              "1   2   27    1              1              0               0       1     0   \n",
              "2   3   39    0              0              1               0       1     0   \n",
              "3   4   20    0              0              0               1       1     0   \n",
              "4   5   29    1              0              1               0       0     1   \n",
              "\n",
              "   student  unemployed   ...     self_employed  no_bike  bike-below125  \\\n",
              "0        0           0   ...                 0        0              0   \n",
              "1        0           0   ...                 1        1              0   \n",
              "2        0           1   ...                 0        0              0   \n",
              "3        0           1   ...                 0        1              0   \n",
              "4        1           0   ...                 0        0              0   \n",
              "\n",
              "   bike-125-180  bike-10-220  bike220plus  single  committed  complicated  \\\n",
              "0             0            1            0       0          0            1   \n",
              "1             0            0            0       1          0            0   \n",
              "2             0            1            0       0          0            0   \n",
              "3             0            0            0       0          0            0   \n",
              "4             0            1            0       0          0            1   \n",
              "\n",
              "   married  \n",
              "0        0  \n",
              "1        0  \n",
              "2        1  \n",
              "3        1  \n",
              "4        0  \n",
              "\n",
              "[5 rows x 21 columns]"
            ]
          },
          "metadata": {
            "tags": []
          },
          "execution_count": 7
        }
      ]
    },
    {
      "cell_type": "code",
      "metadata": {
        "id": "z74cjDlxMLEq",
        "colab_type": "code",
        "colab": {},
        "outputId": "a01b6a40-978c-44fa-931e-17c0df8cade5"
      },
      "source": [
        "\n",
        "corr_matrix = df_onehot.corr()\n",
        "corr_matrix[\"buy\"].sort_values(ascending=False)"
      ],
      "execution_count": 0,
      "outputs": [
        {
          "output_type": "execute_result",
          "data": {
            "text/plain": [
              "buy               1.000000\n",
              "student           0.572735\n",
              "id                0.515978\n",
              "high-end-phone    0.409199\n",
              "bike-10-220       0.222585\n",
              "single            0.118333\n",
              "male              0.063448\n",
              "bike-125-180      0.008730\n",
              "complicated      -0.014053\n",
              "committed        -0.016584\n",
              "bike220plus      -0.035459\n",
              "female           -0.063448\n",
              "bike-below125    -0.091450\n",
              "married          -0.104726\n",
              "no_bike          -0.146020\n",
              "self_employed    -0.223786\n",
              "average-phone    -0.235893\n",
              "low-end-phone    -0.251791\n",
              "professional     -0.257266\n",
              "unemployed       -0.257730\n",
              "age              -0.552044\n",
              "Name: buy, dtype: float64"
            ]
          },
          "metadata": {
            "tags": []
          },
          "execution_count": 74
        }
      ]
    },
    {
      "cell_type": "code",
      "metadata": {
        "id": "sj1FUC7AMLEt",
        "colab_type": "code",
        "colab": {},
        "outputId": "08a762b7-fa59-4d6b-c110-c9c746390954"
      },
      "source": [
        "%matplotlib inline\n",
        "import matplotlib.pyplot as plt\n",
        "df_onehot.hist(bins=50, figsize=(20,15))"
      ],
      "execution_count": 0,
      "outputs": [
        {
          "output_type": "execute_result",
          "data": {
            "text/plain": [
              "array([[<matplotlib.axes._subplots.AxesSubplot object at 0x000000000AB8C550>,\n",
              "        <matplotlib.axes._subplots.AxesSubplot object at 0x000000000ABF4E80>,\n",
              "        <matplotlib.axes._subplots.AxesSubplot object at 0x000000000AC281D0>,\n",
              "        <matplotlib.axes._subplots.AxesSubplot object at 0x000000000AC4F4E0>,\n",
              "        <matplotlib.axes._subplots.AxesSubplot object at 0x000000000AC787F0>],\n",
              "       [<matplotlib.axes._subplots.AxesSubplot object at 0x000000000AC78828>,\n",
              "        <matplotlib.axes._subplots.AxesSubplot object at 0x000000000ACCCE10>,\n",
              "        <matplotlib.axes._subplots.AxesSubplot object at 0x000000000ACFF160>,\n",
              "        <matplotlib.axes._subplots.AxesSubplot object at 0x000000000AD27470>,\n",
              "        <matplotlib.axes._subplots.AxesSubplot object at 0x000000000AD50780>],\n",
              "       [<matplotlib.axes._subplots.AxesSubplot object at 0x000000000AD77A90>,\n",
              "        <matplotlib.axes._subplots.AxesSubplot object at 0x000000000ADA4DA0>,\n",
              "        <matplotlib.axes._subplots.AxesSubplot object at 0x000000000ADD80F0>,\n",
              "        <matplotlib.axes._subplots.AxesSubplot object at 0x000000000AE00400>,\n",
              "        <matplotlib.axes._subplots.AxesSubplot object at 0x000000000AE2A710>],\n",
              "       [<matplotlib.axes._subplots.AxesSubplot object at 0x000000000AE53A20>,\n",
              "        <matplotlib.axes._subplots.AxesSubplot object at 0x000000000AE7CD30>,\n",
              "        <matplotlib.axes._subplots.AxesSubplot object at 0x000000000AEAE320>,\n",
              "        <matplotlib.axes._subplots.AxesSubplot object at 0x000000000AED89B0>,\n",
              "        <matplotlib.axes._subplots.AxesSubplot object at 0x000000000AF06080>],\n",
              "       [<matplotlib.axes._subplots.AxesSubplot object at 0x000000000AF2F710>,\n",
              "        <matplotlib.axes._subplots.AxesSubplot object at 0x000000000AF57DA0>,\n",
              "        <matplotlib.axes._subplots.AxesSubplot object at 0x000000000AF87470>,\n",
              "        <matplotlib.axes._subplots.AxesSubplot object at 0x000000000AFAFB00>,\n",
              "        <matplotlib.axes._subplots.AxesSubplot object at 0x000000000AFE11D0>]],\n",
              "      dtype=object)"
            ]
          },
          "metadata": {
            "tags": []
          },
          "execution_count": 8
        },
        {
          "output_type": "display_data",
          "data": {
            "image/png": "[encoded data removed]",
            "text/plain": [
              "<Figure size 1440x1080 with 25 Axes>"
            ]
          },
          "metadata": {
            "tags": [],
            "needs_background": "light"
          }
        }
      ]
    },
    {
      "cell_type": "code",
      "metadata": {
        "id": "L5uVlGoxMLEw",
        "colab_type": "code",
        "colab": {},
        "outputId": "677bb526-45bb-4203-ac77-61abe989304b"
      },
      "source": [
        "df.hist(bins=50, figsize=(20,15))"
      ],
      "execution_count": 0,
      "outputs": [
        {
          "output_type": "execute_result",
          "data": {
            "text/plain": [
              "array([[<matplotlib.axes._subplots.AxesSubplot object at 0x000000000B07D278>,\n",
              "        <matplotlib.axes._subplots.AxesSubplot object at 0x000000000B3AD860>,\n",
              "        <matplotlib.axes._subplots.AxesSubplot object at 0x000000000B6ADEB8>],\n",
              "       [<matplotlib.axes._subplots.AxesSubplot object at 0x000000000B970668>,\n",
              "        <matplotlib.axes._subplots.AxesSubplot object at 0x000000000CA87518>,\n",
              "        <matplotlib.axes._subplots.AxesSubplot object at 0x000000000CA87550>],\n",
              "       [<matplotlib.axes._subplots.AxesSubplot object at 0x000000000CAC1278>,\n",
              "        <matplotlib.axes._subplots.AxesSubplot object at 0x000000000CD02908>,\n",
              "        <matplotlib.axes._subplots.AxesSubplot object at 0x000000000CD25F98>]],\n",
              "      dtype=object)"
            ]
          },
          "metadata": {
            "tags": []
          },
          "execution_count": 9
        },
        {
          "output_type": "display_data",
          "data": {
            "image/png": "[encoded data removed]",
            "text/plain": [
              "<Figure size 1440x1080 with 9 Axes>"
            ]
          },
          "metadata": {
            "tags": [],
            "needs_background": "light"
          }
        }
      ]
    },
    {
      "cell_type": "code",
      "metadata": {
        "id": "HZE_fV5gMLE0",
        "colab_type": "code",
        "colab": {},
        "outputId": "88d6601c-bee4-42c6-bc87-c410f5c0b3cd"
      },
      "source": [
        "df_onehot.columns.values"
      ],
      "execution_count": 0,
      "outputs": [
        {
          "output_type": "execute_result",
          "data": {
            "text/plain": [
              "array(['id', 'age', 'buy', 'low-end-phone', 'average-phone',\n",
              "       'high-end-phone', 'female', 'male', 'student', 'unemployed',\n",
              "       'professional', 'self_employed', 'no_bike', 'bike-below125',\n",
              "       'bike-125-180', 'bike-10-220', 'bike220plus', 'single',\n",
              "       'committed', 'complicated', 'married'], dtype=object)"
            ]
          },
          "metadata": {
            "tags": []
          },
          "execution_count": 10
        }
      ]
    },
    {
      "cell_type": "code",
      "metadata": {
        "id": "Z6aBBjvOMLE3",
        "colab_type": "code",
        "colab": {},
        "outputId": "98cfe100-6592-4d2f-b260-1a053f3ffbab"
      },
      "source": [
        "sum_column = df_onehot.sum(axis=0)\n",
        "sum_column\n"
      ],
      "execution_count": 0,
      "outputs": [
        {
          "output_type": "execute_result",
          "data": {
            "text/plain": [
              "id                1152921\n",
              "age                 49686\n",
              "buy                   872\n",
              "low-end-phone         343\n",
              "average-phone         339\n",
              "high-end-phone        836\n",
              "female                816\n",
              "male                  702\n",
              "student               686\n",
              "unemployed            274\n",
              "professional          263\n",
              "self_employed         295\n",
              "no_bike               254\n",
              "bike-below125         300\n",
              "bike-125-180          333\n",
              "bike-10-220           420\n",
              "bike220plus           211\n",
              "single                490\n",
              "committed             331\n",
              "complicated           384\n",
              "married               313\n",
              "dtype: int64"
            ]
          },
          "metadata": {
            "tags": []
          },
          "execution_count": 11
        }
      ]
    },
    {
      "cell_type": "code",
      "metadata": {
        "scrolled": true,
        "id": "-lmniWKEMLE7",
        "colab_type": "code",
        "colab": {},
        "outputId": "b4785d9e-6bbd-4328-96dd-f95abb8da532"
      },
      "source": [
        "age = df['age']\n",
        "\n",
        "age.hist(bins=50, figsize=(20,15))\n"
      ],
      "execution_count": 0,
      "outputs": [
        {
          "output_type": "execute_result",
          "data": {
            "text/plain": [
              "<matplotlib.axes._subplots.AxesSubplot at 0xcdc70b8>"
            ]
          },
          "metadata": {
            "tags": []
          },
          "execution_count": 12
        },
        {
          "output_type": "display_data",
          "data": {
            "image/png": "[encoded data removed]",
            "text/plain": [
              "<Figure size 1440x1080 with 1 Axes>"
            ]
          },
          "metadata": {
            "tags": [],
            "needs_background": "light"
          }
        }
      ]
    },
    {
      "cell_type": "code",
      "metadata": {
        "id": "ki-Tm-_JMLE-",
        "colab_type": "code",
        "colab": {},
        "outputId": "d99dd11a-1102-41ba-ddca-2e531fe202c0"
      },
      "source": [
        "age"
      ],
      "execution_count": 0,
      "outputs": [
        {
          "output_type": "execute_result",
          "data": {
            "text/plain": [
              "0       53\n",
              "1       27\n",
              "2       39\n",
              "3       20\n",
              "4       29\n",
              "5       54\n",
              "6       47\n",
              "7       44\n",
              "8       38\n",
              "9       24\n",
              "10      38\n",
              "11      23\n",
              "12      45\n",
              "13      34\n",
              "14      46\n",
              "15      44\n",
              "16      54\n",
              "17      51\n",
              "18      25\n",
              "19      47\n",
              "20      50\n",
              "21      19\n",
              "22      47\n",
              "23      23\n",
              "24      42\n",
              "25      54\n",
              "26      31\n",
              "27      24\n",
              "28      21\n",
              "29      31\n",
              "        ..\n",
              "1488    18\n",
              "1489    24\n",
              "1490    23\n",
              "1491    18\n",
              "1492    24\n",
              "1493    19\n",
              "1494    24\n",
              "1495    18\n",
              "1496    23\n",
              "1497    18\n",
              "1498    22\n",
              "1499    21\n",
              "1500    19\n",
              "1501    18\n",
              "1502    24\n",
              "1503    23\n",
              "1504    18\n",
              "1505    24\n",
              "1506    19\n",
              "1507    24\n",
              "1508    18\n",
              "1509    23\n",
              "1510    18\n",
              "1511    22\n",
              "1512    21\n",
              "1513    19\n",
              "1514    18\n",
              "1515    24\n",
              "1516    23\n",
              "1517    18\n",
              "Name: age, Length: 1518, dtype: int64"
            ]
          },
          "metadata": {
            "tags": []
          },
          "execution_count": 13
        }
      ]
    },
    {
      "cell_type": "code",
      "metadata": {
        "id": "MwrslPSQMLFB",
        "colab_type": "code",
        "colab": {},
        "outputId": "c6abb6c5-2195-45a6-9839-e2a2288b9ed5"
      },
      "source": [
        "age_sum_row = age.value_counts().sort_values()\n",
        "\n",
        "age_sum_row"
      ],
      "execution_count": 0,
      "outputs": [
        {
          "output_type": "execute_result",
          "data": {
            "text/plain": [
              "35     12\n",
              "56     12\n",
              "26     16\n",
              "54     16\n",
              "28     17\n",
              "27     18\n",
              "57     19\n",
              "45     20\n",
              "36     20\n",
              "48     20\n",
              "55     20\n",
              "49     21\n",
              "42     22\n",
              "33     22\n",
              "34     22\n",
              "58     22\n",
              "29     22\n",
              "60     23\n",
              "44     24\n",
              "40     24\n",
              "30     24\n",
              "20     24\n",
              "43     24\n",
              "38     24\n",
              "52     25\n",
              "53     26\n",
              "39     26\n",
              "32     26\n",
              "31     26\n",
              "25     26\n",
              "41     27\n",
              "47     29\n",
              "59     29\n",
              "46     29\n",
              "37     30\n",
              "50     30\n",
              "51     30\n",
              "22     60\n",
              "21     66\n",
              "19    106\n",
              "23    109\n",
              "24    151\n",
              "18    179\n",
              "Name: age, dtype: int64"
            ]
          },
          "metadata": {
            "tags": []
          },
          "execution_count": 14
        }
      ]
    },
    {
      "cell_type": "markdown",
      "metadata": {
        "id": "z41xudenMLFE",
        "colab_type": "text"
      },
      "source": [
        "SCALAR"
      ]
    },
    {
      "cell_type": "code",
      "metadata": {
        "id": "O6loNgQgMLFG",
        "colab_type": "code",
        "colab": {}
      },
      "source": [
        "from sklearn.pipeline import Pipeline\n",
        "from sklearn.preprocessing import StandardScaler\n",
        "\n",
        "num_pipeline = Pipeline([\n",
        "    ('std_scaler',StandardScaler())\n",
        "])\n",
        "\n"
      ],
      "execution_count": 0,
      "outputs": []
    },
    {
      "cell_type": "code",
      "metadata": {
        "id": "sOwgGsKpMLFJ",
        "colab_type": "code",
        "colab": {}
      },
      "source": [
        "y = df_onehot['buy']\n",
        "X = df_onehot[['age', 'low-end-phone', 'average-phone',\n",
        "       'high-end-phone', 'female', 'male', 'student', 'unemployed',\n",
        "       'professional', 'self_employed', 'no_bike', 'bike-below125',\n",
        "       'bike-125-180', 'bike-10-220', 'bike220plus', 'single',\n",
        "       'committed', 'complicated', 'married']]\n"
      ],
      "execution_count": 0,
      "outputs": []
    },
    {
      "cell_type": "code",
      "metadata": {
        "id": "bAk1LaccMLFM",
        "colab_type": "code",
        "colab": {}
      },
      "source": [
        ""
      ],
      "execution_count": 0,
      "outputs": []
    },
    {
      "cell_type": "markdown",
      "metadata": {
        "id": "9y567omzMLFP",
        "colab_type": "text"
      },
      "source": [
        "SPLIT TRAINING TEST SET"
      ]
    },
    {
      "cell_type": "code",
      "metadata": {
        "id": "Ei_9OiPfMLFQ",
        "colab_type": "code",
        "colab": {}
      },
      "source": [
        "from sklearn.model_selection import train_test_split \n",
        "\n",
        "X_train,X_test,y_train,y_test=train_test_split(X,y,test_size=0.20,random_state=0)"
      ],
      "execution_count": 0,
      "outputs": []
    },
    {
      "cell_type": "code",
      "metadata": {
        "id": "NS0CA1wwMLFW",
        "colab_type": "code",
        "colab": {},
        "outputId": "3a4ff2bd-93fc-4a33-bd82-2c9d3bc74569"
      },
      "source": [
        "from sklearn.linear_model import LinearRegression\n",
        "\n",
        "lin_reg = LinearRegression()\n",
        "lin_reg.fit(X_train,y_train)\n"
      ],
      "execution_count": 0,
      "outputs": [
        {
          "output_type": "execute_result",
          "data": {
            "text/plain": [
              "LinearRegression(copy_X=True, fit_intercept=True, n_jobs=1, normalize=False)"
            ]
          },
          "metadata": {
            "tags": []
          },
          "execution_count": 65
        }
      ]
    },
    {
      "cell_type": "code",
      "metadata": {
        "id": "czPc8MguMLFa",
        "colab_type": "code",
        "colab": {},
        "outputId": "c0e035a6-474b-4850-b260-7b580466f37f"
      },
      "source": [
        "lin_reg.score(X_test,y_test)"
      ],
      "execution_count": 0,
      "outputs": [
        {
          "output_type": "execute_result",
          "data": {
            "text/plain": [
              "0.41856808516830446"
            ]
          },
          "metadata": {
            "tags": []
          },
          "execution_count": 66
        }
      ]
    },
    {
      "cell_type": "code",
      "metadata": {
        "id": "iPSZwnUlMLFd",
        "colab_type": "code",
        "colab": {},
        "outputId": "ce6a661a-b6e6-42bb-8eee-49e0eefcd94b"
      },
      "source": [
        "y_pred=lin_reg.predict(X_test)\n",
        "\n",
        "accuracy_score(y_test, y_pred.round(), normalize=False)\n",
        "\n"
      ],
      "execution_count": 0,
      "outputs": [
        {
          "output_type": "execute_result",
          "data": {
            "text/plain": [
              "232"
            ]
          },
          "metadata": {
            "tags": []
          },
          "execution_count": 70
        }
      ]
    },
    {
      "cell_type": "code",
      "metadata": {
        "id": "WbU6T5hRMLFg",
        "colab_type": "code",
        "colab": {},
        "outputId": "806b5f07-7cbd-4bcc-b853-deeddd629a45"
      },
      "source": [
        "lin_reg.coef_"
      ],
      "execution_count": 0,
      "outputs": [
        {
          "output_type": "execute_result",
          "data": {
            "text/plain": [
              "array([-0.01086819, -0.04553981, -0.019627  ,  0.06516681, -0.05364855,\n",
              "        0.05364855,  0.25593639, -0.09545834, -0.10398418, -0.05649388,\n",
              "       -0.03683513, -0.04700745,  0.01405177,  0.0348763 ,  0.03491452,\n",
              "        0.02371326,  0.00566193,  0.00287133, -0.03224651])"
            ]
          },
          "metadata": {
            "tags": []
          },
          "execution_count": 51
        }
      ]
    },
    {
      "cell_type": "code",
      "metadata": {
        "id": "GaWX-HCIMLFk",
        "colab_type": "code",
        "colab": {},
        "outputId": "2ebe8467-bd4d-43df-b6e8-96a2f958c2c5"
      },
      "source": [
        "lin_reg.intercept_"
      ],
      "execution_count": 0,
      "outputs": [
        {
          "output_type": "execute_result",
          "data": {
            "text/plain": [
              "0.8535842612144819"
            ]
          },
          "metadata": {
            "tags": []
          },
          "execution_count": 23
        }
      ]
    },
    {
      "cell_type": "code",
      "metadata": {
        "id": "MvO6RQH3MLFo",
        "colab_type": "code",
        "colab": {},
        "outputId": "a41ccee0-6557-4a0a-bc40-1995007d4fd7"
      },
      "source": [
        "#naive bayes\n",
        "from sklearn.naive_bayes import GaussianNB\n",
        "\n",
        "gnb = GaussianNB()\n",
        "gnb.fit(X_train,y_train)\n",
        "y_pred=gnb.predict(X_test)\n",
        "accuracy_score(y_test,y_pred)\n",
        "\n"
      ],
      "execution_count": 0,
      "outputs": [
        {
          "output_type": "execute_result",
          "data": {
            "text/plain": [
              "0.7664473684210527"
            ]
          },
          "metadata": {
            "tags": []
          },
          "execution_count": 71
        }
      ]
    },
    {
      "cell_type": "code",
      "metadata": {
        "id": "InkiMPEXMLFr",
        "colab_type": "code",
        "colab": {},
        "outputId": "5dbb698e-6807-43d6-bc3e-a8abb4f123e7"
      },
      "source": [
        "#standard vanilla forest\n",
        "\n",
        "tree_clf = DecisionTreeClassifier(max_depth=2)\n",
        "tree_clf.fit(X_train,y_train)\n",
        "\n",
        "pred_y_0 = tree_clf.predict(X_train)\n",
        "\n",
        "print (accuracy_score(pred_y_0,y_train))"
      ],
      "execution_count": 0,
      "outputs": [
        {
          "output_type": "stream",
          "text": [
            "0.7767710049423394\n"
          ],
          "name": "stdout"
        }
      ]
    },
    {
      "cell_type": "code",
      "metadata": {
        "id": "koKFIJlMMLFu",
        "colab_type": "code",
        "colab": {},
        "outputId": "b03df2a1-d4b6-4314-aef8-447ac6deab2e"
      },
      "source": [
        "from sklearn.datasets import load_wine\n",
        "from sklearn.pipeline import make_pipeline\n",
        "\n",
        "# Fit to data and predict using pipelined scaling, GNB and PCA.\n",
        "std_clf = make_pipeline(StandardScaler(), PCA(n_components=2), GaussianNB())\n",
        "std_clf.fit(X_train, y_train)\n",
        "pred_test_std = std_clf.predict(X_test)\n",
        "\n",
        "print('\\nPrediction accuracy for the standardized test dataset with PCA')\n",
        "print('{:.2%}\\n'.format(metrics.accuracy_score(y_test, pred_test_std)))"
      ],
      "execution_count": 0,
      "outputs": [
        {
          "output_type": "stream",
          "text": [
            "\n",
            "Prediction accuracy for the standardized test dataset with PCA\n",
            "76.97%\n",
            "\n"
          ],
          "name": "stdout"
        }
      ]
    },
    {
      "cell_type": "code",
      "metadata": {
        "id": "u20FpH9OMLFy",
        "colab_type": "code",
        "colab": {},
        "outputId": "31452cdb-6ed4-422c-a1fb-999216500ffc"
      },
      "source": [
        "RANDOM_STATE = 42\n",
        "FIG_SIZE = (10, 7)\n",
        "\n",
        "# Fit to data and predict using pipelined GNB and PCA.\n",
        "unscaled_clf = make_pipeline(PCA(n_components=2), GaussianNB())\n",
        "unscaled_clf.fit(X_train, y_train)\n",
        "pred_test = unscaled_clf.predict(X_test)\n",
        "\n",
        "# Fit to data and predict using pipelined scaling, GNB and PCA.\n",
        "std_clf = make_pipeline(StandardScaler(), PCA(n_components=2), GaussianNB())\n",
        "std_clf.fit(X_train, y_train)\n",
        "pred_test_std = std_clf.predict(X_test)\n",
        "\n",
        "# Show prediction accuracies in scaled and unscaled data.\n",
        "print('\\nPrediction accuracy for the normal test dataset with PCA')\n",
        "print('{:.2%}\\n'.format(metrics.accuracy_score(y_test, pred_test)))\n",
        "\n",
        "print('\\nPrediction accuracy for the standardized test dataset with PCA')\n",
        "print('{:.2%}\\n'.format(metrics.accuracy_score(y_test, pred_test_std)))\n",
        "\n"
      ],
      "execution_count": 0,
      "outputs": [
        {
          "output_type": "stream",
          "text": [
            "\n",
            "Prediction accuracy for the normal test dataset with PCA\n",
            "76.97%\n",
            "\n",
            "\n",
            "Prediction accuracy for the standardized test dataset with PCA\n",
            "76.97%\n",
            "\n"
          ],
          "name": "stdout"
        }
      ]
    },
    {
      "cell_type": "code",
      "metadata": {
        "id": "bq6XSLhOMLF2",
        "colab_type": "code",
        "colab": {},
        "outputId": "251dc362-b8ea-474e-bdcc-a1fd114ed62b"
      },
      "source": [
        "#support vector machine\n",
        "from sklearn.svm import SVC\n",
        "# Train model\n",
        "clf_3 = SVC(kernel='linear', \n",
        "            class_weight='balanced', # penalize\n",
        "            probability=True)\n",
        " \n",
        "clf_3.fit(X_train, y_train)\n",
        " \n",
        "# Predict on training set\n",
        "pred_y_3 = clf_3.predict(X_train)\n",
        " \n",
        " \n",
        "# How's our accuracy?\n",
        "print( accuracy_score(y_train, pred_y_3) )\n",
        "\n",
        " \n",
        "y_pred_proba3 = clf_3.predict_proba(X_test)[::,1]\n",
        "fpr, tpr, _ = metrics.roc_curve(y_test,  y_pred_proba3)\n",
        "auc = metrics.roc_auc_score(y_test, y_pred_proba3)\n",
        "plt.plot(fpr,tpr,label=\"data 1, auc=\"+str(auc))\n",
        "plt.legend(loc=4)\n",
        "plt.show()"
      ],
      "execution_count": 0,
      "outputs": [
        {
          "output_type": "stream",
          "text": [
            "0.7767710049423394\n"
          ],
          "name": "stdout"
        },
        {
          "output_type": "display_data",
          "data": {
            "image/png": "[encoded data removed]",
            "text/plain": [
              "<Figure size 432x288 with 1 Axes>"
            ]
          },
          "metadata": {
            "tags": [],
            "needs_background": "light"
          }
        }
      ]
    },
    {
      "cell_type": "markdown",
      "metadata": {
        "id": "uXyNcn_gMLF6",
        "colab_type": "text"
      },
      "source": [
        "LOGISTIC REGRESSION"
      ]
    },
    {
      "cell_type": "code",
      "metadata": {
        "id": "-K6myevhMLF7",
        "colab_type": "code",
        "colab": {},
        "outputId": "7bf8a82c-3f87-4d27-b518-2e5c27b00128"
      },
      "source": [
        "from sklearn.linear_model import LogisticRegression\n",
        "\n",
        "logreg = LogisticRegression()\n",
        "logreg.fit(X_train, y_train)"
      ],
      "execution_count": 0,
      "outputs": [
        {
          "output_type": "execute_result",
          "data": {
            "text/plain": [
              "LogisticRegression(C=1.0, class_weight=None, dual=False, fit_intercept=True,\n",
              "          intercept_scaling=1, max_iter=100, multi_class='ovr', n_jobs=1,\n",
              "          penalty='l2', random_state=None, solver='liblinear', tol=0.0001,\n",
              "          verbose=0, warm_start=False)"
            ]
          },
          "metadata": {
            "tags": []
          },
          "execution_count": 29
        }
      ]
    },
    {
      "cell_type": "code",
      "metadata": {
        "id": "nYaWVnWBMLF-",
        "colab_type": "code",
        "colab": {}
      },
      "source": [
        "y_pred=logreg.predict(X_test)"
      ],
      "execution_count": 0,
      "outputs": []
    },
    {
      "cell_type": "code",
      "metadata": {
        "id": "fRW0pWnuMLGC",
        "colab_type": "code",
        "colab": {},
        "outputId": "a6d13675-9715-4193-d233-a8e383d29d4f"
      },
      "source": [
        "cnf_matrix=metrics.confusion_matrix(y_test, y_pred)\n",
        "cnf_matrix"
      ],
      "execution_count": 0,
      "outputs": [
        {
          "output_type": "execute_result",
          "data": {
            "text/plain": [
              "array([[ 99,  27],\n",
              "       [ 44, 134]], dtype=int64)"
            ]
          },
          "metadata": {
            "tags": []
          },
          "execution_count": 31
        }
      ]
    },
    {
      "cell_type": "code",
      "metadata": {
        "id": "4SdNJwMcMLGF",
        "colab_type": "code",
        "colab": {},
        "outputId": "cb63d90f-0cc1-4214-c0b1-0a619cd3fef2"
      },
      "source": [
        "class_names=[1,2,3]\n",
        "fig, ax = plt.subplots()\n",
        "tick_marks = np.arange(len(class_names))\n",
        "plt.xticks(tick_marks, class_names)\n",
        "plt.yticks(tick_marks, class_names)\n",
        "sns.heatmap(pd.DataFrame(cnf_matrix), annot=True, cmap=\"viridis\" ,fmt='g')\n",
        "ax.xaxis.set_label_position(\"top\")\n",
        "plt.tight_layout()\n",
        "plt.title('Confusion matrix', y=1.1)\n",
        "plt.ylabel('Actual label')\n",
        "plt.xlabel('Predicted label')"
      ],
      "execution_count": 0,
      "outputs": [
        {
          "output_type": "execute_result",
          "data": {
            "text/plain": [
              "Text(0.5,257.44,'Predicted label')"
            ]
          },
          "metadata": {
            "tags": []
          },
          "execution_count": 32
        },
        {
          "output_type": "display_data",
          "data": {
            "image/png": "[encoded data removed]",
            "text/plain": [
              "<Figure size 432x288 with 2 Axes>"
            ]
          },
          "metadata": {
            "tags": [],
            "needs_background": "light"
          }
        }
      ]
    },
    {
      "cell_type": "code",
      "metadata": {
        "id": "MWPNdjHMMLGH",
        "colab_type": "code",
        "colab": {},
        "outputId": "ed8b5539-685d-49e5-f96a-8a127d558c03"
      },
      "source": [
        "print(\"Accuracy:\",metrics.accuracy_score(y_test, y_pred))\n",
        "print(\"Precision:\",metrics.precision_score(y_test, y_pred))\n",
        "print(\"Recall:\",metrics.recall_score(y_test, y_pred))"
      ],
      "execution_count": 0,
      "outputs": [
        {
          "output_type": "stream",
          "text": [
            "Accuracy: 0.7664473684210527\n",
            "Precision: 0.8322981366459627\n",
            "Recall: 0.7528089887640449\n"
          ],
          "name": "stdout"
        }
      ]
    },
    {
      "cell_type": "code",
      "metadata": {
        "id": "E76jpTmiMLGK",
        "colab_type": "code",
        "colab": {},
        "outputId": "46d7b8df-8716-4983-ac5f-e8945cf6f64e"
      },
      "source": [
        "y_pred_proba = logreg.predict_proba(X_test)[::,1]\n",
        "fpr, tpr, _ = metrics.roc_curve(y_test,  y_pred_proba)\n",
        "auc = metrics.roc_auc_score(y_test, y_pred_proba)\n",
        "plt.plot(fpr,tpr,label=\"data 1, auc=\"+str(auc))\n",
        "plt.legend(loc=4)\n",
        "plt.show()"
      ],
      "execution_count": 0,
      "outputs": [
        {
          "output_type": "display_data",
          "data": {
            "image/png": "[encoded data removed]",
            "text/plain": [
              "<Figure size 432x288 with 1 Axes>"
            ]
          },
          "metadata": {
            "tags": [],
            "needs_background": "light"
          }
        }
      ]
    },
    {
      "cell_type": "code",
      "metadata": {
        "id": "rPST1muWMLGN",
        "colab_type": "code",
        "colab": {},
        "outputId": "83a05a8e-8333-4147-9632-b2bd49ac69af"
      },
      "source": [
        "coefficients = pd.concat([pd.DataFrame(X.columns),pd.DataFrame(np.transpose(logreg.coef_))], axis = 1)\n",
        "coefficients"
      ],
      "execution_count": 0,
      "outputs": [
        {
          "output_type": "execute_result",
          "data": {
            "text/html": [
              "<div>\n",
              "<style scoped>\n",
              "    .dataframe tbody tr th:only-of-type {\n",
              "        vertical-align: middle;\n",
              "    }\n",
              "\n",
              "    .dataframe tbody tr th {\n",
              "        vertical-align: top;\n",
              "    }\n",
              "\n",
              "    .dataframe thead th {\n",
              "        text-align: right;\n",
              "    }\n",
              "</style>\n",
              "<table border=\"1\" class=\"dataframe\">\n",
              "  <thead>\n",
              "    <tr style=\"text-align: right;\">\n",
              "      <th></th>\n",
              "      <th>0</th>\n",
              "      <th>0</th>\n",
              "    </tr>\n",
              "  </thead>\n",
              "  <tbody>\n",
              "    <tr>\n",
              "      <th>0</th>\n",
              "      <td>age</td>\n",
              "      <td>-0.063320</td>\n",
              "    </tr>\n",
              "    <tr>\n",
              "      <th>1</th>\n",
              "      <td>low-end-phone</td>\n",
              "      <td>-0.004779</td>\n",
              "    </tr>\n",
              "    <tr>\n",
              "      <th>2</th>\n",
              "      <td>average-phone</td>\n",
              "      <td>0.120544</td>\n",
              "    </tr>\n",
              "    <tr>\n",
              "      <th>3</th>\n",
              "      <td>high-end-phone</td>\n",
              "      <td>0.696648</td>\n",
              "    </tr>\n",
              "    <tr>\n",
              "      <th>4</th>\n",
              "      <td>female</td>\n",
              "      <td>0.030870</td>\n",
              "    </tr>\n",
              "    <tr>\n",
              "      <th>5</th>\n",
              "      <td>male</td>\n",
              "      <td>0.781542</td>\n",
              "    </tr>\n",
              "    <tr>\n",
              "      <th>6</th>\n",
              "      <td>student</td>\n",
              "      <td>1.572036</td>\n",
              "    </tr>\n",
              "    <tr>\n",
              "      <th>7</th>\n",
              "      <td>unemployed</td>\n",
              "      <td>-0.299293</td>\n",
              "    </tr>\n",
              "    <tr>\n",
              "      <th>8</th>\n",
              "      <td>professional</td>\n",
              "      <td>-0.359914</td>\n",
              "    </tr>\n",
              "    <tr>\n",
              "      <th>9</th>\n",
              "      <td>self_employed</td>\n",
              "      <td>-0.100416</td>\n",
              "    </tr>\n",
              "    <tr>\n",
              "      <th>10</th>\n",
              "      <td>no_bike</td>\n",
              "      <td>-0.010190</td>\n",
              "    </tr>\n",
              "    <tr>\n",
              "      <th>11</th>\n",
              "      <td>bike-below125</td>\n",
              "      <td>-0.160098</td>\n",
              "    </tr>\n",
              "    <tr>\n",
              "      <th>12</th>\n",
              "      <td>bike-125-180</td>\n",
              "      <td>0.246051</td>\n",
              "    </tr>\n",
              "    <tr>\n",
              "      <th>13</th>\n",
              "      <td>bike-10-220</td>\n",
              "      <td>0.429363</td>\n",
              "    </tr>\n",
              "    <tr>\n",
              "      <th>14</th>\n",
              "      <td>bike220plus</td>\n",
              "      <td>0.307287</td>\n",
              "    </tr>\n",
              "    <tr>\n",
              "      <th>15</th>\n",
              "      <td>single</td>\n",
              "      <td>0.347939</td>\n",
              "    </tr>\n",
              "    <tr>\n",
              "      <th>16</th>\n",
              "      <td>committed</td>\n",
              "      <td>0.323568</td>\n",
              "    </tr>\n",
              "    <tr>\n",
              "      <th>17</th>\n",
              "      <td>complicated</td>\n",
              "      <td>0.204928</td>\n",
              "    </tr>\n",
              "    <tr>\n",
              "      <th>18</th>\n",
              "      <td>married</td>\n",
              "      <td>-0.064023</td>\n",
              "    </tr>\n",
              "  </tbody>\n",
              "</table>\n",
              "</div>"
            ],
            "text/plain": [
              "                 0         0\n",
              "0              age -0.063320\n",
              "1    low-end-phone -0.004779\n",
              "2    average-phone  0.120544\n",
              "3   high-end-phone  0.696648\n",
              "4           female  0.030870\n",
              "5             male  0.781542\n",
              "6          student  1.572036\n",
              "7       unemployed -0.299293\n",
              "8     professional -0.359914\n",
              "9    self_employed -0.100416\n",
              "10         no_bike -0.010190\n",
              "11   bike-below125 -0.160098\n",
              "12    bike-125-180  0.246051\n",
              "13     bike-10-220  0.429363\n",
              "14     bike220plus  0.307287\n",
              "15          single  0.347939\n",
              "16       committed  0.323568\n",
              "17     complicated  0.204928\n",
              "18         married -0.064023"
            ]
          },
          "metadata": {
            "tags": []
          },
          "execution_count": 35
        }
      ]
    },
    {
      "cell_type": "code",
      "metadata": {
        "id": "wLsiYiJaMLGR",
        "colab_type": "code",
        "colab": {},
        "outputId": "c125fa2a-e43a-474b-de28-26d00d9d2a20"
      },
      "source": [
        "\n",
        "data = [[32,0,0,1,1,0,0,0,1,0,1,0,0,0,0,0,0,0,1]]\n",
        "demographic = pd.DataFrame(data, columns = ['age','low-end-phone', 'average-phone',\n",
        "       'high-end-phone', 'female', 'male', 'student', 'unemployed',\n",
        "       'professional', 'self_employed', 'no_bike', 'bike-below125',\n",
        "       'bike-125-180', 'bike-10-220', 'bike220plus', 'single',\n",
        "       'committed', 'complicated', 'married'])\n",
        "demographic\n"
      ],
      "execution_count": 0,
      "outputs": [
        {
          "output_type": "execute_result",
          "data": {
            "text/html": [
              "<div>\n",
              "<style scoped>\n",
              "    .dataframe tbody tr th:only-of-type {\n",
              "        vertical-align: middle;\n",
              "    }\n",
              "\n",
              "    .dataframe tbody tr th {\n",
              "        vertical-align: top;\n",
              "    }\n",
              "\n",
              "    .dataframe thead th {\n",
              "        text-align: right;\n",
              "    }\n",
              "</style>\n",
              "<table border=\"1\" class=\"dataframe\">\n",
              "  <thead>\n",
              "    <tr style=\"text-align: right;\">\n",
              "      <th></th>\n",
              "      <th>age</th>\n",
              "      <th>low-end-phone</th>\n",
              "      <th>average-phone</th>\n",
              "      <th>high-end-phone</th>\n",
              "      <th>female</th>\n",
              "      <th>male</th>\n",
              "      <th>student</th>\n",
              "      <th>unemployed</th>\n",
              "      <th>professional</th>\n",
              "      <th>self_employed</th>\n",
              "      <th>no_bike</th>\n",
              "      <th>bike-below125</th>\n",
              "      <th>bike-125-180</th>\n",
              "      <th>bike-10-220</th>\n",
              "      <th>bike220plus</th>\n",
              "      <th>single</th>\n",
              "      <th>committed</th>\n",
              "      <th>complicated</th>\n",
              "      <th>married</th>\n",
              "    </tr>\n",
              "  </thead>\n",
              "  <tbody>\n",
              "    <tr>\n",
              "      <th>0</th>\n",
              "      <td>32</td>\n",
              "      <td>0</td>\n",
              "      <td>0</td>\n",
              "      <td>1</td>\n",
              "      <td>1</td>\n",
              "      <td>0</td>\n",
              "      <td>0</td>\n",
              "      <td>0</td>\n",
              "      <td>1</td>\n",
              "      <td>0</td>\n",
              "      <td>1</td>\n",
              "      <td>0</td>\n",
              "      <td>0</td>\n",
              "      <td>0</td>\n",
              "      <td>0</td>\n",
              "      <td>0</td>\n",
              "      <td>0</td>\n",
              "      <td>0</td>\n",
              "      <td>1</td>\n",
              "    </tr>\n",
              "  </tbody>\n",
              "</table>\n",
              "</div>"
            ],
            "text/plain": [
              "   age  low-end-phone  average-phone  high-end-phone  female  male  student  \\\n",
              "0   32              0              0               1       1     0        0   \n",
              "\n",
              "   unemployed  professional  self_employed  no_bike  bike-below125  \\\n",
              "0           0             1              0        1              0   \n",
              "\n",
              "   bike-125-180  bike-10-220  bike220plus  single  committed  complicated  \\\n",
              "0             0            0            0       0          0            0   \n",
              "\n",
              "   married  \n",
              "0        1  "
            ]
          },
          "metadata": {
            "tags": []
          },
          "execution_count": 44
        }
      ]
    },
    {
      "cell_type": "code",
      "metadata": {
        "id": "6XJcyD6tMLGU",
        "colab_type": "code",
        "colab": {},
        "outputId": "d21a34d6-3772-4f96-e586-657c78fc5a71"
      },
      "source": [
        "predictions = logreg.predict_proba(demographic)\n",
        "predictions"
      ],
      "execution_count": 0,
      "outputs": [
        {
          "output_type": "execute_result",
          "data": {
            "text/plain": [
              "array([[0.71512909, 0.28487091]])"
            ]
          },
          "metadata": {
            "tags": []
          },
          "execution_count": 45
        }
      ]
    },
    {
      "cell_type": "code",
      "metadata": {
        "id": "gJzQMgn3MLGY",
        "colab_type": "code",
        "colab": {},
        "outputId": "f9f00e30-6ec1-4cd8-8519-5683cbc2d94f"
      },
      "source": [
        "y_pred=gnb.predict(demographic)\n",
        "y_pred"
      ],
      "execution_count": 0,
      "outputs": [
        {
          "output_type": "execute_result",
          "data": {
            "text/plain": [
              "array([0], dtype=int64)"
            ]
          },
          "metadata": {
            "tags": []
          },
          "execution_count": 41
        }
      ]
    },
    {
      "cell_type": "markdown",
      "metadata": {
        "id": "ju7OYF-0MLGb",
        "colab_type": "text"
      },
      "source": [
        "Try without one-hot encoding"
      ]
    },
    {
      "cell_type": "code",
      "metadata": {
        "id": "9xB_ZeC6MLGi",
        "colab_type": "code",
        "colab": {},
        "outputId": "36a023d3-536f-4365-cd9b-80d0f19bb5f9"
      },
      "source": [
        "df.columns.values"
      ],
      "execution_count": 0,
      "outputs": [
        {
          "output_type": "execute_result",
          "data": {
            "text/plain": [
              "array(['id', 'age', 'sex', 'occupation', 'phone', 'bike', 'relationship',\n",
              "       'buy'], dtype=object)"
            ]
          },
          "metadata": {
            "tags": []
          },
          "execution_count": 75
        }
      ]
    },
    {
      "cell_type": "code",
      "metadata": {
        "id": "PH727UfXMLGl",
        "colab_type": "code",
        "colab": {}
      },
      "source": [
        "X1 = df[['age', 'sex', 'occupation', 'phone', 'bike', 'relationship']]\n",
        "y1 = df['buy']"
      ],
      "execution_count": 0,
      "outputs": []
    },
    {
      "cell_type": "code",
      "metadata": {
        "id": "cVxABd1zMLGn",
        "colab_type": "code",
        "colab": {}
      },
      "source": [
        "X1_train,X1_test,y1_train,y1_test=train_test_split(X1,y1,test_size=0.20,random_state=0)"
      ],
      "execution_count": 0,
      "outputs": []
    },
    {
      "cell_type": "code",
      "metadata": {
        "id": "1hNWI2NLMLGs",
        "colab_type": "code",
        "colab": {},
        "outputId": "dce25712-27aa-478a-93a6-e224322de356"
      },
      "source": [
        "logreg1 = LogisticRegression()\n",
        "logreg1.fit(X1_train, y1_train)"
      ],
      "execution_count": 0,
      "outputs": [
        {
          "output_type": "execute_result",
          "data": {
            "text/plain": [
              "LogisticRegression(C=1.0, class_weight=None, dual=False, fit_intercept=True,\n",
              "          intercept_scaling=1, max_iter=100, multi_class='ovr', n_jobs=1,\n",
              "          penalty='l2', random_state=None, solver='liblinear', tol=0.0001,\n",
              "          verbose=0, warm_start=False)"
            ]
          },
          "metadata": {
            "tags": []
          },
          "execution_count": 82
        }
      ]
    },
    {
      "cell_type": "code",
      "metadata": {
        "id": "OOdcQX3zMLGv",
        "colab_type": "code",
        "colab": {}
      },
      "source": [
        "y1_pred=logreg1.predict(X1_test)"
      ],
      "execution_count": 0,
      "outputs": []
    },
    {
      "cell_type": "code",
      "metadata": {
        "id": "tYxD4XhwMLG0",
        "colab_type": "code",
        "colab": {},
        "outputId": "2bbb835f-522a-4d2b-a4a0-918cb41bcf12"
      },
      "source": [
        "print(\"Accuracy:\",metrics.accuracy_score(y1_test, y1_pred))\n",
        "print(\"Precision:\",metrics.precision_score(y1_test, y1_pred))\n",
        "print(\"Recall:\",metrics.recall_score(y1_test, y1_pred))"
      ],
      "execution_count": 0,
      "outputs": [
        {
          "output_type": "stream",
          "text": [
            "Accuracy: 0.7796052631578947\n",
            "Precision: 0.8245614035087719\n",
            "Recall: 0.7921348314606742\n"
          ],
          "name": "stdout"
        }
      ]
    },
    {
      "cell_type": "code",
      "metadata": {
        "id": "0v0JSI9hMLG2",
        "colab_type": "code",
        "colab": {},
        "outputId": "9239ec9a-d4e4-410b-c09e-4e5f7a501ebb"
      },
      "source": [
        "coefficients1 = pd.concat([pd.DataFrame(X1.columns),pd.DataFrame(np.transpose(logreg1.coef_))], axis = 1)\n",
        "coefficients1"
      ],
      "execution_count": 0,
      "outputs": [
        {
          "output_type": "execute_result",
          "data": {
            "text/html": [
              "<div>\n",
              "<style scoped>\n",
              "    .dataframe tbody tr th:only-of-type {\n",
              "        vertical-align: middle;\n",
              "    }\n",
              "\n",
              "    .dataframe tbody tr th {\n",
              "        vertical-align: top;\n",
              "    }\n",
              "\n",
              "    .dataframe thead th {\n",
              "        text-align: right;\n",
              "    }\n",
              "</style>\n",
              "<table border=\"1\" class=\"dataframe\">\n",
              "  <thead>\n",
              "    <tr style=\"text-align: right;\">\n",
              "      <th></th>\n",
              "      <th>0</th>\n",
              "      <th>0</th>\n",
              "    </tr>\n",
              "  </thead>\n",
              "  <tbody>\n",
              "    <tr>\n",
              "      <th>0</th>\n",
              "      <td>age</td>\n",
              "      <td>-0.073303</td>\n",
              "    </tr>\n",
              "    <tr>\n",
              "      <th>1</th>\n",
              "      <td>sex</td>\n",
              "      <td>0.706931</td>\n",
              "    </tr>\n",
              "    <tr>\n",
              "      <th>2</th>\n",
              "      <td>occupation</td>\n",
              "      <td>-0.505161</td>\n",
              "    </tr>\n",
              "    <tr>\n",
              "      <th>3</th>\n",
              "      <td>phone</td>\n",
              "      <td>0.558068</td>\n",
              "    </tr>\n",
              "    <tr>\n",
              "      <th>4</th>\n",
              "      <td>bike</td>\n",
              "      <td>0.181947</td>\n",
              "    </tr>\n",
              "    <tr>\n",
              "      <th>5</th>\n",
              "      <td>relationship</td>\n",
              "      <td>-0.119069</td>\n",
              "    </tr>\n",
              "  </tbody>\n",
              "</table>\n",
              "</div>"
            ],
            "text/plain": [
              "              0         0\n",
              "0           age -0.073303\n",
              "1           sex  0.706931\n",
              "2    occupation -0.505161\n",
              "3         phone  0.558068\n",
              "4          bike  0.181947\n",
              "5  relationship -0.119069"
            ]
          },
          "metadata": {
            "tags": []
          },
          "execution_count": 87
        }
      ]
    },
    {
      "cell_type": "markdown",
      "metadata": {
        "id": "F_2hBbbJMZSQ",
        "colab_type": "text"
      },
      "source": [
        "In conclusion, these are the coefficients. I find that the results didn't really require one hot encoding because the features of the data-set lend themselves to Linear analysis."
      ]
    }
  ]
}